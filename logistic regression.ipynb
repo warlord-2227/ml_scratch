{
 "cells": [
  {
   "cell_type": "code",
   "execution_count": 1,
   "id": "c4998767",
   "metadata": {},
   "outputs": [],
   "source": [
    "import os\n",
    "import sys\n",
    "import numpy as np\n",
    "import pandas as pd"
   ]
  },
  {
   "cell_type": "code",
   "execution_count": 15,
   "id": "45a8c1d9",
   "metadata": {},
   "outputs": [],
   "source": [
    "path = \"/home/toor/Downloads/dataset.csv\""
   ]
  },
  {
   "cell_type": "code",
   "execution_count": 16,
   "id": "3b853762",
   "metadata": {},
   "outputs": [],
   "source": [
    "data = pd.read_csv(path)"
   ]
  },
  {
   "cell_type": "code",
   "execution_count": 18,
   "id": "72963039",
   "metadata": {},
   "outputs": [
    {
     "data": {
      "text/plain": [
       "Index(['years_of_experience', 'functional_competency_score',\n",
       "       'top1_skills_score', 'top2_skills_score', 'top3_skills_score',\n",
       "       'behavior_competency_score', 'top1_behavior_skill_score',\n",
       "       'top2_behavior_skill_score', 'top3_behavior_skill_score',\n",
       "       'call_for_interview'],\n",
       "      dtype='object')"
      ]
     },
     "execution_count": 18,
     "metadata": {},
     "output_type": "execute_result"
    }
   ],
   "source": [
    "data.columns"
   ]
  },
  {
   "cell_type": "code",
   "execution_count": 20,
   "id": "27daa6f5",
   "metadata": {},
   "outputs": [],
   "source": [
    "class LogisticRegression:\n",
    "    '''\n",
    "    Logistic regreession from scratch\n",
    "    '''\n",
    "    def __init__(self, learning_rate=0.1, num_iterations=1000):\n",
    "        self.learning_rate = learning_rate\n",
    "        self.num_iterations = num_iterations\n",
    "        self.weights = None\n",
    "        self.bias = None\n",
    "\n",
    "    def sigmoid(self, z):\n",
    "        return 1 / (1 + np.exp(-z))\n",
    "\n",
    "    def initialize_parameters(self, num_features):\n",
    "        self.weights = np.zeros(num_features)\n",
    "        self.bias = 0\n",
    "\n",
    "    def fit(self, X, y):\n",
    "        self.initialize_parameters(X.shape[1])\n",
    "\n",
    "        for _ in range(self.num_iterations):\n",
    "            # Forward pass\n",
    "            linear_output = np.dot(X, self.weights) + self.bias\n",
    "            y_pred = self.sigmoid(linear_output)\n",
    "\n",
    "            # Backward pass\n",
    "            gradient_weights = np.dot(X.T, (y_pred - y)) / X.shape[0]\n",
    "            gradient_bias = np.sum(y_pred - y) / X.shape[0]\n",
    "\n",
    "            # Update parameters\n",
    "            self.weights -= self.learning_rate * gradient_weights\n",
    "            self.bias -= self.learning_rate * gradient_bias\n",
    "\n",
    "    def predict(self, X):\n",
    "        linear_output = np.dot(X, self.weights) + self.bias\n",
    "        y_pred = self.sigmoid(linear_output)\n",
    "        return np.round(y_pred)\n"
   ]
  },
  {
   "cell_type": "code",
   "execution_count": 21,
   "id": "ab2b8524",
   "metadata": {},
   "outputs": [],
   "source": [
    "model = LogisticRegression()"
   ]
  },
  {
   "cell_type": "code",
   "execution_count": 23,
   "id": "aeba0da4",
   "metadata": {},
   "outputs": [],
   "source": [
    "x_train = data[['years_of_experience', 'functional_competency_score',\n",
    "       'top1_skills_score', 'top2_skills_score', 'top3_skills_score',\n",
    "       'behavior_competency_score', 'top1_behavior_skill_score',\n",
    "       'top2_behavior_skill_score', 'top3_behavior_skill_score']]"
   ]
  },
  {
   "cell_type": "code",
   "execution_count": 25,
   "id": "de84f785",
   "metadata": {},
   "outputs": [],
   "source": [
    "x = np.asarray(x_train)"
   ]
  },
  {
   "cell_type": "code",
   "execution_count": 26,
   "id": "215cff35",
   "metadata": {},
   "outputs": [],
   "source": [
    "y = np.asarray(data[\"call_for_interview\"])"
   ]
  },
  {
   "cell_type": "code",
   "execution_count": 27,
   "id": "f3fc2ea2",
   "metadata": {},
   "outputs": [],
   "source": [
    "model.fit(x,y)"
   ]
  },
  {
   "cell_type": "code",
   "execution_count": 28,
   "id": "d2bfaae2",
   "metadata": {},
   "outputs": [],
   "source": [
    "y_pred = model.predict(x)"
   ]
  },
  {
   "cell_type": "code",
   "execution_count": 30,
   "id": "75a0d2da",
   "metadata": {},
   "outputs": [
    {
     "name": "stdout",
     "output_type": "stream",
     "text": [
      "91.66666666666666\n"
     ]
    }
   ],
   "source": [
    "accuracy = np.mean(y_pred == y) * 100\n",
    "print(accuracy)"
   ]
  },
  {
   "cell_type": "code",
   "execution_count": 32,
   "id": "6cca37d7",
   "metadata": {},
   "outputs": [],
   "source": [
    "from sklearn.model_selection import train_test_split"
   ]
  },
  {
   "cell_type": "code",
   "execution_count": 34,
   "id": "4f2010fa",
   "metadata": {},
   "outputs": [],
   "source": [
    "X_train, X_test, y_train, y_test = train_test_split(x, y, test_size=0.2, random_state=42)"
   ]
  },
  {
   "cell_type": "code",
   "execution_count": 35,
   "id": "361b7002",
   "metadata": {},
   "outputs": [],
   "source": [
    "model.fit(X_train,y_train)\n",
    "y_pred = model.predict(X_test)"
   ]
  },
  {
   "cell_type": "code",
   "execution_count": null,
   "id": "ffe0d5c3",
   "metadata": {},
   "outputs": [],
   "source": [
    "accuracy = np.mean(y_pred == y) * 100\n",
    "print(accuracy)"
   ]
  }
 ],
 "metadata": {
  "kernelspec": {
   "display_name": "Python 3 (ipykernel)",
   "language": "python",
   "name": "python3"
  },
  "language_info": {
   "codemirror_mode": {
    "name": "ipython",
    "version": 3
   },
   "file_extension": ".py",
   "mimetype": "text/x-python",
   "name": "python",
   "nbconvert_exporter": "python",
   "pygments_lexer": "ipython3",
   "version": "3.9.13"
  }
 },
 "nbformat": 4,
 "nbformat_minor": 5
}
