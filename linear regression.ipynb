{
 "cells": [
  {
   "cell_type": "code",
   "execution_count": 3,
   "id": "f4f988cd",
   "metadata": {},
   "outputs": [],
   "source": [
    "import numpy as np\n",
    "import os \n",
    "import sys\n",
    "import pandas as pd\n",
    "import random"
   ]
  },
  {
   "cell_type": "code",
   "execution_count": 4,
   "id": "8a33fd8b",
   "metadata": {},
   "outputs": [],
   "source": [
    "np.random.seed(123)\n",
    "x = np.linspace(0,10,100)\n",
    "y = 2*x + np.random.randn(100)\n",
    "# y = 2*x + 10"
   ]
  },
  {
   "cell_type": "code",
   "execution_count": 5,
   "id": "3684df5d",
   "metadata": {},
   "outputs": [],
   "source": [
    "class LinearRegression:\n",
    "    def __init__(self,learning_rate=0.01,num_iteration=1000):\n",
    "        self.learning_rate = learning_rate\n",
    "        self.num_iterations = num_iteration\n",
    "        self.intercept = None\n",
    "        self.slope = None\n",
    "    \n",
    "    def fit(self,X,y):\n",
    "        n = len(X)\n",
    "        self.intercept = 0\n",
    "        self.slope = 0\n",
    "        \n",
    "        for _ in range(self.num_iterations):\n",
    "            y_pred = self.intercept + self.slope * X\n",
    "            gradient_0 =  (1/n) * np.sum(y_pred-y)\n",
    "            gradient_1 = (1/n)*np.sum((y_pred-y)*X)\n",
    "            self.intercept -= self.learning_rate*gradient_0\n",
    "            self.slope -= self.learning_rate*gradient_1\n",
    "   \n",
    "    \n",
    "    def transform(self,X):\n",
    "        return self.intercept + self.slope*X\n",
    "    \n",
    "    def predict(self,X):\n",
    "        return self.transform(X)\n",
    "\n",
    "    \n",
    "    "
   ]
  },
  {
   "cell_type": "code",
   "execution_count": 6,
   "id": "2807f071",
   "metadata": {},
   "outputs": [],
   "source": [
    "model = LinearRegression()\n",
    "model.fit(x,y)"
   ]
  },
  {
   "cell_type": "code",
   "execution_count": 7,
   "id": "4dbf8bc8",
   "metadata": {},
   "outputs": [],
   "source": [
    "intercept, slope = model.intercept, model.slope"
   ]
  },
  {
   "cell_type": "code",
   "execution_count": 8,
   "id": "dd90f3f9",
   "metadata": {},
   "outputs": [
    {
     "data": {
      "text/plain": [
       "(0.036546137486978165, 1.999277678085378)"
      ]
     },
     "execution_count": 8,
     "metadata": {},
     "output_type": "execute_result"
    }
   ],
   "source": [
    "intercept,slope"
   ]
  },
  {
   "cell_type": "markdown",
   "id": "2affaa99",
   "metadata": {},
   "source": [
    "# General method "
   ]
  },
  {
   "cell_type": "code",
   "execution_count": 9,
   "id": "ad2cb754",
   "metadata": {},
   "outputs": [],
   "source": [
    "X = np.array([[1, 1], [1, 2], [2, 2], [2, 3]])\n",
    "y = np.dot(X, np.array([1, 2])) + 3"
   ]
  },
  {
   "cell_type": "code",
   "execution_count": 10,
   "id": "333b3e47",
   "metadata": {},
   "outputs": [
    {
     "data": {
      "text/plain": [
       "(4, 2)"
      ]
     },
     "execution_count": 10,
     "metadata": {},
     "output_type": "execute_result"
    }
   ],
   "source": [
    "X.shape"
   ]
  },
  {
   "cell_type": "code",
   "execution_count": 11,
   "id": "16a83eb0",
   "metadata": {},
   "outputs": [],
   "source": [
    "class LinearRegression:\n",
    "    def __init__(self, learning_rate=0.001, num_iterations=1000):\n",
    "        self.learning_rate = learning_rate\n",
    "        self.num_iterations = num_iterations\n",
    "        self.intercept = None\n",
    "        self.coefficients = None\n",
    "\n",
    "    def fit(self, X, y):\n",
    "        n, m = X.shape\n",
    "        self.intercept = np.zeros(1)\n",
    "        self.coefficients = np.zeros(m)\n",
    "\n",
    "        for _ in range(self.num_iterations):\n",
    "            y_pred = self.intercept + np.dot(X, self.coefficients)\n",
    "            gradient_0 = (1/n) * np.sum(y_pred - y)\n",
    "            gradient = (1/n) * np.dot(X.T, y_pred - y)\n",
    "            self.intercept -= self.learning_rate * gradient_0\n",
    "            self.coefficients -= self.learning_rate * gradient\n",
    "\n",
    "    def transform(self, X):\n",
    "        return self.intercept + np.dot(X, self.coefficients)\n",
    "\n",
    "    def predict(self, X):\n",
    "        return self.transform(X)"
   ]
  },
  {
   "cell_type": "code",
   "execution_count": 12,
   "id": "7b56525e",
   "metadata": {},
   "outputs": [],
   "source": [
    "path = \"/home/toor/Downloads/Real estate.csv\"\n",
    "data = pd.read_csv(path)"
   ]
  },
  {
   "cell_type": "code",
   "execution_count": 13,
   "id": "9d1889f6",
   "metadata": {},
   "outputs": [
    {
     "data": {
      "text/plain": [
       "Index(['No', 'X1 transaction date', 'X2 house age',\n",
       "       'X3 distance to the nearest MRT station',\n",
       "       'X4 number of convenience stores', 'X5 latitude', 'X6 longitude',\n",
       "       'Y house price of unit area'],\n",
       "      dtype='object')"
      ]
     },
     "execution_count": 13,
     "metadata": {},
     "output_type": "execute_result"
    }
   ],
   "source": [
    "data.columns"
   ]
  },
  {
   "cell_type": "code",
   "execution_count": 23,
   "id": "440aa263",
   "metadata": {},
   "outputs": [],
   "source": [
    "X_train = data[['X1 transaction date','X2 house age',\n",
    "       'X3 distance to the nearest MRT station',\n",
    "       'X4 number of convenience stores', 'X5 latitude', 'X6 longitude']]"
   ]
  },
  {
   "cell_type": "code",
   "execution_count": 24,
   "id": "676ba9ad",
   "metadata": {},
   "outputs": [],
   "source": [
    "y_train = data['Y house price of unit area']"
   ]
  },
  {
   "cell_type": "code",
   "execution_count": 25,
   "id": "3f725cb6",
   "metadata": {},
   "outputs": [],
   "source": [
    "x = np.asarray(X_train)"
   ]
  },
  {
   "cell_type": "code",
   "execution_count": 26,
   "id": "e4db6ac8",
   "metadata": {},
   "outputs": [
    {
     "data": {
      "text/plain": [
       "(414, 6)"
      ]
     },
     "execution_count": 26,
     "metadata": {},
     "output_type": "execute_result"
    }
   ],
   "source": [
    "x.shape"
   ]
  },
  {
   "cell_type": "code",
   "execution_count": 39,
   "id": "1282acbf",
   "metadata": {},
   "outputs": [],
   "source": [
    "from sklearn.preprocessing import StandardScaler,MinMaxScaler\n",
    "scaler = StandardScaler()\n",
    "x_scaled = scaler.fit_transform(x)"
   ]
  },
  {
   "cell_type": "code",
   "execution_count": 40,
   "id": "c2708a59",
   "metadata": {},
   "outputs": [],
   "source": [
    "y = np.asarray(y_train)"
   ]
  },
  {
   "cell_type": "code",
   "execution_count": 41,
   "id": "da46e280",
   "metadata": {},
   "outputs": [],
   "source": [
    "model = LinearRegression()\n",
    "model.fit(x_scaled, y)\n",
    "\n",
    "intercept, coefficients = model.intercept, model.coefficients\n"
   ]
  },
  {
   "cell_type": "code",
   "execution_count": 42,
   "id": "f4572962",
   "metadata": {},
   "outputs": [
    {
     "data": {
      "text/plain": [
       "array([24.01504995])"
      ]
     },
     "execution_count": 42,
     "metadata": {},
     "output_type": "execute_result"
    }
   ],
   "source": [
    "intercept"
   ]
  },
  {
   "cell_type": "code",
   "execution_count": 43,
   "id": "308aae40",
   "metadata": {},
   "outputs": [
    {
     "data": {
      "text/plain": [
       "array([ 0.84701773, -1.86282839, -3.3234493 ,  2.92325949,  2.72632924,\n",
       "        2.0259985 ])"
      ]
     },
     "execution_count": 43,
     "metadata": {},
     "output_type": "execute_result"
    }
   ],
   "source": [
    "coefficients"
   ]
  },
  {
   "cell_type": "code",
   "execution_count": 120,
   "id": "d9dbabb4",
   "metadata": {},
   "outputs": [],
   "source": [
    "from sklearn.linear_model import LinearRegression\n",
    "model=LinearRegression().fit(x,y)\n"
   ]
  }
 ],
 "metadata": {
  "kernelspec": {
   "display_name": "Python 3 (ipykernel)",
   "language": "python",
   "name": "python3"
  },
  "language_info": {
   "codemirror_mode": {
    "name": "ipython",
    "version": 3
   },
   "file_extension": ".py",
   "mimetype": "text/x-python",
   "name": "python",
   "nbconvert_exporter": "python",
   "pygments_lexer": "ipython3",
   "version": "3.9.13"
  }
 },
 "nbformat": 4,
 "nbformat_minor": 5
}
